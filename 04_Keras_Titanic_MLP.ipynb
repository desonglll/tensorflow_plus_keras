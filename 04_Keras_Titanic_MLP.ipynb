{
 "cells": [
  {
   "cell_type": "code",
   "execution_count": 54,
   "id": "initial_id",
   "metadata": {
    "collapsed": true,
    "ExecuteTime": {
     "end_time": "2024-09-13T14:32:26.452497Z",
     "start_time": "2024-09-13T14:32:26.449248Z"
    }
   },
   "outputs": [],
   "source": [
    "import urllib.request\n",
    "import os"
   ]
  },
  {
   "cell_type": "code",
   "execution_count": 55,
   "outputs": [],
   "source": [
    "url = \"https://hbiostat.org/data/repo/titanic3.xls\"\n",
    "filepath = \"data/titanic3.xls\"\n",
    "if not os.path.isfile(filepath):\n",
    "    result = urllib.request.urlretrieve(url, filepath)\n",
    "    print(\"downloaded:\", result)"
   ],
   "metadata": {
    "collapsed": false,
    "ExecuteTime": {
     "end_time": "2024-09-13T14:32:26.962046Z",
     "start_time": "2024-09-13T14:32:26.959536Z"
    }
   },
   "id": "c79ca772be593cb0"
  },
  {
   "cell_type": "code",
   "execution_count": 56,
   "outputs": [],
   "source": [
    "import numpy as np\n",
    "import pandas as pd"
   ],
   "metadata": {
    "collapsed": false,
    "ExecuteTime": {
     "end_time": "2024-09-13T14:32:27.322204Z",
     "start_time": "2024-09-13T14:32:27.316311Z"
    }
   },
   "id": "ada4a18193981c54"
  },
  {
   "cell_type": "code",
   "execution_count": 57,
   "outputs": [],
   "source": [
    "all_df = pd.read_excel(filepath)"
   ],
   "metadata": {
    "collapsed": false,
    "ExecuteTime": {
     "end_time": "2024-09-13T14:32:27.799018Z",
     "start_time": "2024-09-13T14:32:27.770711Z"
    }
   },
   "id": "2dec6b4b4f6a8ec3"
  },
  {
   "cell_type": "code",
   "execution_count": 58,
   "outputs": [
    {
     "data": {
      "text/plain": "   pclass  survived                            name     sex      age  sibsp  \\\n0       1         1   Allen, Miss. Elisabeth Walton  female  29.0000      0   \n1       1         1  Allison, Master. Hudson Trevor    male   0.9167      1   \n\n   parch  ticket      fare    cabin embarked boat  body  \\\n0      0   24160  211.3375       B5        S    2   NaN   \n1      2  113781  151.5500  C22 C26        S   11   NaN   \n\n                         home.dest  \n0                     St Louis, MO  \n1  Montreal, PQ / Chesterville, ON  ",
      "text/html": "<div>\n<style scoped>\n    .dataframe tbody tr th:only-of-type {\n        vertical-align: middle;\n    }\n\n    .dataframe tbody tr th {\n        vertical-align: top;\n    }\n\n    .dataframe thead th {\n        text-align: right;\n    }\n</style>\n<table border=\"1\" class=\"dataframe\">\n  <thead>\n    <tr style=\"text-align: right;\">\n      <th></th>\n      <th>pclass</th>\n      <th>survived</th>\n      <th>name</th>\n      <th>sex</th>\n      <th>age</th>\n      <th>sibsp</th>\n      <th>parch</th>\n      <th>ticket</th>\n      <th>fare</th>\n      <th>cabin</th>\n      <th>embarked</th>\n      <th>boat</th>\n      <th>body</th>\n      <th>home.dest</th>\n    </tr>\n  </thead>\n  <tbody>\n    <tr>\n      <th>0</th>\n      <td>1</td>\n      <td>1</td>\n      <td>Allen, Miss. Elisabeth Walton</td>\n      <td>female</td>\n      <td>29.0000</td>\n      <td>0</td>\n      <td>0</td>\n      <td>24160</td>\n      <td>211.3375</td>\n      <td>B5</td>\n      <td>S</td>\n      <td>2</td>\n      <td>NaN</td>\n      <td>St Louis, MO</td>\n    </tr>\n    <tr>\n      <th>1</th>\n      <td>1</td>\n      <td>1</td>\n      <td>Allison, Master. Hudson Trevor</td>\n      <td>male</td>\n      <td>0.9167</td>\n      <td>1</td>\n      <td>2</td>\n      <td>113781</td>\n      <td>151.5500</td>\n      <td>C22 C26</td>\n      <td>S</td>\n      <td>11</td>\n      <td>NaN</td>\n      <td>Montreal, PQ / Chesterville, ON</td>\n    </tr>\n  </tbody>\n</table>\n</div>"
     },
     "execution_count": 58,
     "metadata": {},
     "output_type": "execute_result"
    }
   ],
   "source": [
    "all_df[:2]"
   ],
   "metadata": {
    "collapsed": false,
    "ExecuteTime": {
     "end_time": "2024-09-13T14:32:28.278249Z",
     "start_time": "2024-09-13T14:32:28.274976Z"
    }
   },
   "id": "a5f06d9a3b1fdfd6"
  },
  {
   "cell_type": "code",
   "execution_count": 59,
   "outputs": [],
   "source": [
    "cols = [\"survived\", \"name\", \"pclass\", \"sex\", \"age\", \"sibsp\", \"parch\", \"fare\", \"embarked\"]\n",
    "all_df = all_df[cols]"
   ],
   "metadata": {
    "collapsed": false,
    "ExecuteTime": {
     "end_time": "2024-09-13T14:32:28.957924Z",
     "start_time": "2024-09-13T14:32:28.955275Z"
    }
   },
   "id": "7cd1dea971b22be4"
  },
  {
   "cell_type": "markdown",
   "source": [
    "删除name字段"
   ],
   "metadata": {
    "collapsed": false
   },
   "id": "948f8516254c5d63"
  },
  {
   "cell_type": "code",
   "execution_count": 60,
   "outputs": [],
   "source": [
    "df = all_df.drop([\"name\"], axis=1)"
   ],
   "metadata": {
    "collapsed": false,
    "ExecuteTime": {
     "end_time": "2024-09-13T14:32:30.198156Z",
     "start_time": "2024-09-13T14:32:30.186469Z"
    }
   },
   "id": "db98822ba0826717"
  },
  {
   "cell_type": "markdown",
   "source": [
    "找出含有null值的字段"
   ],
   "metadata": {
    "collapsed": false
   },
   "id": "99ffa3ac379cd5e"
  },
  {
   "cell_type": "code",
   "execution_count": 61,
   "outputs": [
    {
     "data": {
      "text/plain": "survived      0\nname          0\npclass        0\nsex           0\nage         263\nsibsp         0\nparch         0\nfare          1\nembarked      2\ndtype: int64"
     },
     "execution_count": 61,
     "metadata": {},
     "output_type": "execute_result"
    }
   ],
   "source": [
    "all_df.isnull().sum()"
   ],
   "metadata": {
    "collapsed": false,
    "ExecuteTime": {
     "end_time": "2024-09-13T14:32:31.683169Z",
     "start_time": "2024-09-13T14:32:31.679279Z"
    }
   },
   "id": "e16a1091cc5b54c5"
  },
  {
   "cell_type": "code",
   "execution_count": 62,
   "outputs": [],
   "source": [
    "age_mean = df['age'].mean()\n",
    "df['age'] = df['age'].fillna(age_mean)"
   ],
   "metadata": {
    "collapsed": false,
    "ExecuteTime": {
     "end_time": "2024-09-13T14:32:32.854628Z",
     "start_time": "2024-09-13T14:32:32.846192Z"
    }
   },
   "id": "e27a0157db131ec"
  },
  {
   "cell_type": "code",
   "execution_count": 63,
   "outputs": [],
   "source": [
    "fare_mean = df['fare'].mean()\n",
    "df['fare'] = df['fare'].fillna(fare_mean)"
   ],
   "metadata": {
    "collapsed": false,
    "ExecuteTime": {
     "end_time": "2024-09-13T14:32:33.130386Z",
     "start_time": "2024-09-13T14:32:33.120423Z"
    }
   },
   "id": "5e0ac600cc7876c"
  },
  {
   "cell_type": "code",
   "execution_count": 64,
   "outputs": [],
   "source": [
    "df['sex'] = df['sex'].map({'female': 0, 'male': 1}).astype(int)"
   ],
   "metadata": {
    "collapsed": false,
    "ExecuteTime": {
     "end_time": "2024-09-13T14:32:34.918463Z",
     "start_time": "2024-09-13T14:32:34.909383Z"
    }
   },
   "id": "43d23d1460eb4599"
  },
  {
   "cell_type": "code",
   "execution_count": 65,
   "outputs": [],
   "source": [
    "x_OneHot_df = pd.get_dummies(data=df, columns=[\"embarked\"])"
   ],
   "metadata": {
    "collapsed": false,
    "ExecuteTime": {
     "end_time": "2024-09-13T14:32:35.327936Z",
     "start_time": "2024-09-13T14:32:35.324634Z"
    }
   },
   "id": "11c56bd926f439d"
  },
  {
   "cell_type": "code",
   "execution_count": 66,
   "outputs": [],
   "source": [
    "ndarray = x_OneHot_df.values"
   ],
   "metadata": {
    "collapsed": false,
    "ExecuteTime": {
     "end_time": "2024-09-13T14:32:35.792104Z",
     "start_time": "2024-09-13T14:32:35.787437Z"
    }
   },
   "id": "a1445320f7275261"
  },
  {
   "cell_type": "code",
   "execution_count": 67,
   "outputs": [
    {
     "data": {
      "text/plain": "(1309, 10)"
     },
     "execution_count": 67,
     "metadata": {},
     "output_type": "execute_result"
    }
   ],
   "source": [
    "ndarray.shape"
   ],
   "metadata": {
    "collapsed": false,
    "ExecuteTime": {
     "end_time": "2024-09-13T14:32:36.384244Z",
     "start_time": "2024-09-13T14:32:36.379545Z"
    }
   },
   "id": "16fdcc4667ac8c9d"
  },
  {
   "cell_type": "code",
   "execution_count": 68,
   "outputs": [
    {
     "data": {
      "text/plain": "array([[1, 1, 0, 29.0, 0, 0, 211.3375, False, False, True],\n       [1, 1, 1, 0.9167, 1, 2, 151.55, False, False, True]], dtype=object)"
     },
     "execution_count": 68,
     "metadata": {},
     "output_type": "execute_result"
    }
   ],
   "source": [
    "ndarray[:2]"
   ],
   "metadata": {
    "collapsed": false,
    "ExecuteTime": {
     "end_time": "2024-09-13T14:32:38.016464Z",
     "start_time": "2024-09-13T14:32:38.003798Z"
    }
   },
   "id": "209a8ad01249948c"
  },
  {
   "cell_type": "code",
   "execution_count": 69,
   "outputs": [],
   "source": [
    "Label = ndarray[:, 0]\n",
    "Features = ndarray[:, 1:]"
   ],
   "metadata": {
    "collapsed": false,
    "ExecuteTime": {
     "end_time": "2024-09-13T14:32:38.546349Z",
     "start_time": "2024-09-13T14:32:38.541408Z"
    }
   },
   "id": "258d96d9e0fabb93"
  },
  {
   "cell_type": "code",
   "execution_count": 70,
   "outputs": [
    {
     "data": {
      "text/plain": "array([1, 1], dtype=object)"
     },
     "execution_count": 70,
     "metadata": {},
     "output_type": "execute_result"
    }
   ],
   "source": [
    "Label[:2]"
   ],
   "metadata": {
    "collapsed": false,
    "ExecuteTime": {
     "end_time": "2024-09-13T14:32:38.997543Z",
     "start_time": "2024-09-13T14:32:38.987944Z"
    }
   },
   "id": "87139bd7e2a3dd94"
  },
  {
   "cell_type": "code",
   "execution_count": 71,
   "outputs": [
    {
     "data": {
      "text/plain": "array([[1, 0, 29.0, 0, 0, 211.3375, False, False, True],\n       [1, 1, 0.9167, 1, 2, 151.55, False, False, True]], dtype=object)"
     },
     "execution_count": 71,
     "metadata": {},
     "output_type": "execute_result"
    }
   ],
   "source": [
    "Features[:2]"
   ],
   "metadata": {
    "collapsed": false,
    "ExecuteTime": {
     "end_time": "2024-09-13T14:32:39.373949Z",
     "start_time": "2024-09-13T14:32:39.361343Z"
    }
   },
   "id": "e2d60aa26488dbf1"
  },
  {
   "cell_type": "code",
   "execution_count": 72,
   "outputs": [],
   "source": [
    "from sklearn import preprocessing"
   ],
   "metadata": {
    "collapsed": false,
    "ExecuteTime": {
     "end_time": "2024-09-13T14:32:39.860405Z",
     "start_time": "2024-09-13T14:32:39.856314Z"
    }
   },
   "id": "cd64404cff2c5008"
  },
  {
   "cell_type": "code",
   "execution_count": 73,
   "outputs": [],
   "source": [
    "minmax_scale = preprocessing.MinMaxScaler(feature_range=(0, 1))"
   ],
   "metadata": {
    "collapsed": false,
    "ExecuteTime": {
     "end_time": "2024-09-13T14:32:40.159357Z",
     "start_time": "2024-09-13T14:32:40.150262Z"
    }
   },
   "id": "8e2ad53900c8c717"
  },
  {
   "cell_type": "code",
   "execution_count": 74,
   "outputs": [],
   "source": [
    "scaledFeatures = minmax_scale.fit_transform(Features)"
   ],
   "metadata": {
    "collapsed": false,
    "ExecuteTime": {
     "end_time": "2024-09-13T14:32:40.377486Z",
     "start_time": "2024-09-13T14:32:40.369162Z"
    }
   },
   "id": "a9bd1ce8d814d03d"
  },
  {
   "cell_type": "code",
   "execution_count": 75,
   "outputs": [
    {
     "data": {
      "text/plain": "array([[0.        , 0.        , 0.36116884, 0.        , 0.        ,\n        0.41250333, 0.        , 0.        , 1.        ],\n       [0.        , 1.        , 0.00939458, 0.125     , 0.22222222,\n        0.2958059 , 0.        , 0.        , 1.        ]])"
     },
     "execution_count": 75,
     "metadata": {},
     "output_type": "execute_result"
    }
   ],
   "source": [
    "scaledFeatures[:2]"
   ],
   "metadata": {
    "collapsed": false,
    "ExecuteTime": {
     "end_time": "2024-09-13T14:32:40.735663Z",
     "start_time": "2024-09-13T14:32:40.729131Z"
    }
   },
   "id": "975d335ff5329a32"
  },
  {
   "cell_type": "code",
   "execution_count": 76,
   "outputs": [],
   "source": [
    "msk = np.random.rand(len(all_df)) < 0.8\n",
    "train_df = all_df[msk]\n",
    "test_df = all_df[~msk]"
   ],
   "metadata": {
    "collapsed": false,
    "ExecuteTime": {
     "end_time": "2024-09-13T14:32:48.772964Z",
     "start_time": "2024-09-13T14:32:48.762147Z"
    }
   },
   "id": "772e9c0055ef9485"
  },
  {
   "cell_type": "code",
   "execution_count": 77,
   "outputs": [
    {
     "name": "stdout",
     "output_type": "stream",
     "text": [
      "total: 1309 train: 1049 test: 260\n"
     ]
    }
   ],
   "source": [
    "print(\"total:\", len(all_df),\n",
    "      \"train:\", len(train_df),\n",
    "      \"test:\", len(test_df))"
   ],
   "metadata": {
    "collapsed": false,
    "ExecuteTime": {
     "end_time": "2024-09-13T14:32:58.641871Z",
     "start_time": "2024-09-13T14:32:58.630316Z"
    }
   },
   "id": "fd0d900e477a19f2"
  },
  {
   "cell_type": "code",
   "execution_count": 102,
   "outputs": [],
   "source": [
    "def PreprocessData(raw_df):\n",
    "    df = raw_df.drop([\"name\"], axis=1)\n",
    "    age_mean = df[\"age\"].mean()\n",
    "    df[\"age\"] = df[\"age\"].fillna(age_mean)\n",
    "    fare_mean = df[\"fare\"].mean()\n",
    "    df[\"fare\"] = df[\"fare\"].fillna(fare_mean)\n",
    "    df[\"sex\"] = df[\"sex\"].map({\"female\": 0, \"male\": 1}).astype(int)\n",
    "    x_OneHot_df = pd.get_dummies(data=df, columns=[\"embarked\"])\n",
    "\n",
    "    ndarray = x_OneHot_df.values\n",
    "    Features = ndarray[:, 1:]\n",
    "    Label = ndarray[:, 0]\n",
    "\n",
    "    minmax_scale = preprocessing.MinMaxScaler(feature_range=(0, 1))\n",
    "    scaledFeatures = minmax_scale.fit_transform(Features)\n",
    "\n",
    "    return scaledFeatures.astype('float32'), Label.astype('float32')"
   ],
   "metadata": {
    "collapsed": false,
    "ExecuteTime": {
     "end_time": "2024-09-13T14:43:58.988052Z",
     "start_time": "2024-09-13T14:43:58.981790Z"
    }
   },
   "id": "ed442b65d0c47fa0"
  },
  {
   "cell_type": "code",
   "execution_count": 103,
   "outputs": [],
   "source": [
    "train_Features, train_Label = PreprocessData(train_df)\n",
    "test_Features, test_Label = PreprocessData(test_df)"
   ],
   "metadata": {
    "collapsed": false,
    "ExecuteTime": {
     "end_time": "2024-09-13T14:43:59.139001Z",
     "start_time": "2024-09-13T14:43:59.123894Z"
    }
   },
   "id": "1c81aca7117268d2"
  },
  {
   "cell_type": "code",
   "execution_count": 104,
   "outputs": [
    {
     "data": {
      "text/plain": "array([[0.        , 1.        , 0.00939458, 0.125     , 0.22222222,\n        0.2958059 , 0.        , 0.        , 1.        ],\n       [0.        , 0.        , 0.0229641 , 0.125     , 0.22222222,\n        0.2958059 , 0.        , 0.        , 1.        ]], dtype=float32)"
     },
     "execution_count": 104,
     "metadata": {},
     "output_type": "execute_result"
    }
   ],
   "source": [
    "train_Features[:2]"
   ],
   "metadata": {
    "collapsed": false,
    "ExecuteTime": {
     "end_time": "2024-09-13T14:43:59.271180Z",
     "start_time": "2024-09-13T14:43:59.268367Z"
    }
   },
   "id": "e0033d2729cc76a6"
  },
  {
   "cell_type": "code",
   "execution_count": 105,
   "outputs": [
    {
     "data": {
      "text/plain": "array([1., 0.], dtype=float32)"
     },
     "execution_count": 105,
     "metadata": {},
     "output_type": "execute_result"
    }
   ],
   "source": [
    "train_Label[:2]"
   ],
   "metadata": {
    "collapsed": false,
    "ExecuteTime": {
     "end_time": "2024-09-13T14:43:59.408849Z",
     "start_time": "2024-09-13T14:43:59.402830Z"
    }
   },
   "id": "5f65debeddfbdc9"
  },
  {
   "cell_type": "markdown",
   "source": [
    "## 建立模型"
   ],
   "metadata": {
    "collapsed": false
   },
   "id": "4d299fbb0c8f1fde"
  },
  {
   "cell_type": "code",
   "execution_count": 106,
   "outputs": [],
   "source": [
    "from keras.src.models import Sequential\n",
    "from keras.src.layers import Dense, Dropout"
   ],
   "metadata": {
    "collapsed": false,
    "ExecuteTime": {
     "end_time": "2024-09-13T14:43:59.692808Z",
     "start_time": "2024-09-13T14:43:59.690621Z"
    }
   },
   "id": "4ce4bd3d724b8248"
  },
  {
   "cell_type": "code",
   "execution_count": 107,
   "outputs": [],
   "source": [
    "model = Sequential()"
   ],
   "metadata": {
    "collapsed": false,
    "ExecuteTime": {
     "end_time": "2024-09-13T14:43:59.852959Z",
     "start_time": "2024-09-13T14:43:59.851101Z"
    }
   },
   "id": "5954acdf3b366ce4"
  },
  {
   "cell_type": "code",
   "execution_count": 108,
   "outputs": [
    {
     "name": "stderr",
     "output_type": "stream",
     "text": [
      "/Users/mikeshinoda/Library/Caches/pypoetry/virtualenvs/tensorflow-plus-keras-PjLLcQ39-py3.12/lib/python3.12/site-packages/keras/src/layers/core/dense.py:87: UserWarning: Do not pass an `input_shape`/`input_dim` argument to a layer. When using Sequential models, prefer using an `Input(shape)` object as the first layer in the model instead.\n",
      "  super().__init__(activity_regularizer=activity_regularizer, **kwargs)\n"
     ]
    }
   ],
   "source": [
    "model.add(Dense(units=40,\n",
    "                input_dim=9,\n",
    "                kernel_initializer=\"uniform\",\n",
    "                activation=\"relu\"))"
   ],
   "metadata": {
    "collapsed": false,
    "ExecuteTime": {
     "end_time": "2024-09-13T14:44:00.022483Z",
     "start_time": "2024-09-13T14:44:00.001442Z"
    }
   },
   "id": "7c0f69f759b4b23d"
  },
  {
   "cell_type": "code",
   "execution_count": 109,
   "outputs": [],
   "source": [
    "model.add(Dense(units=30,\n",
    "                kernel_initializer=\"uniform\",\n",
    "                activation=\"relu\"))"
   ],
   "metadata": {
    "collapsed": false,
    "ExecuteTime": {
     "end_time": "2024-09-13T14:44:00.166039Z",
     "start_time": "2024-09-13T14:44:00.159273Z"
    }
   },
   "id": "40b751b09a8bd88c"
  },
  {
   "cell_type": "code",
   "execution_count": 110,
   "outputs": [],
   "source": [
    "model.add(Dense(units=1,\n",
    "                kernel_initializer=\"uniform\",\n",
    "                activation=\"sigmoid\"))"
   ],
   "metadata": {
    "collapsed": false,
    "ExecuteTime": {
     "end_time": "2024-09-13T14:44:00.564685Z",
     "start_time": "2024-09-13T14:44:00.558926Z"
    }
   },
   "id": "96a4b97140d5a0a7"
  },
  {
   "cell_type": "markdown",
   "source": [
    "## 开始训练"
   ],
   "metadata": {
    "collapsed": false
   },
   "id": "20649c095d4c283e"
  },
  {
   "cell_type": "code",
   "execution_count": 111,
   "outputs": [],
   "source": [
    "model.compile(loss=\"binary_crossentropy\",\n",
    "              optimizer=\"adam\",\n",
    "              metrics=[\"accuracy\"])"
   ],
   "metadata": {
    "collapsed": false,
    "ExecuteTime": {
     "end_time": "2024-09-13T14:44:01.257826Z",
     "start_time": "2024-09-13T14:44:01.249328Z"
    }
   },
   "id": "a3079b302b5da8b2"
  },
  {
   "cell_type": "code",
   "execution_count": 112,
   "outputs": [
    {
     "name": "stdout",
     "output_type": "stream",
     "text": [
      "Epoch 1/30\n",
      "32/32 - 1s - 21ms/step - accuracy: 0.5911 - loss: 0.6895 - val_accuracy: 0.7714 - val_loss: 0.6706\n",
      "Epoch 2/30\n",
      "32/32 - 0s - 943us/step - accuracy: 0.6314 - loss: 0.6601 - val_accuracy: 0.7714 - val_loss: 0.5783\n",
      "Epoch 3/30\n",
      "32/32 - 0s - 975us/step - accuracy: 0.6811 - loss: 0.5916 - val_accuracy: 0.8095 - val_loss: 0.4918\n",
      "Epoch 4/30\n",
      "32/32 - 0s - 879us/step - accuracy: 0.7648 - loss: 0.5238 - val_accuracy: 0.8095 - val_loss: 0.4641\n",
      "Epoch 5/30\n",
      "32/32 - 0s - 880us/step - accuracy: 0.7712 - loss: 0.4879 - val_accuracy: 0.8095 - val_loss: 0.4393\n",
      "Epoch 6/30\n",
      "32/32 - 0s - 932us/step - accuracy: 0.7744 - loss: 0.4757 - val_accuracy: 0.8095 - val_loss: 0.4307\n",
      "Epoch 7/30\n",
      "32/32 - 0s - 894us/step - accuracy: 0.7744 - loss: 0.4712 - val_accuracy: 0.8095 - val_loss: 0.4311\n",
      "Epoch 8/30\n",
      "32/32 - 0s - 931us/step - accuracy: 0.7712 - loss: 0.4659 - val_accuracy: 0.8095 - val_loss: 0.4245\n",
      "Epoch 9/30\n",
      "32/32 - 0s - 903us/step - accuracy: 0.7881 - loss: 0.4645 - val_accuracy: 0.8095 - val_loss: 0.4239\n",
      "Epoch 10/30\n",
      "32/32 - 0s - 944us/step - accuracy: 0.7977 - loss: 0.4606 - val_accuracy: 0.8095 - val_loss: 0.4247\n",
      "Epoch 11/30\n",
      "32/32 - 0s - 882us/step - accuracy: 0.7818 - loss: 0.4592 - val_accuracy: 0.8190 - val_loss: 0.4203\n",
      "Epoch 12/30\n",
      "32/32 - 0s - 889us/step - accuracy: 0.7850 - loss: 0.4566 - val_accuracy: 0.8571 - val_loss: 0.4181\n",
      "Epoch 13/30\n",
      "32/32 - 0s - 970us/step - accuracy: 0.7828 - loss: 0.4587 - val_accuracy: 0.8095 - val_loss: 0.4187\n",
      "Epoch 14/30\n",
      "32/32 - 0s - 1ms/step - accuracy: 0.7850 - loss: 0.4522 - val_accuracy: 0.8571 - val_loss: 0.4181\n",
      "Epoch 15/30\n",
      "32/32 - 0s - 976us/step - accuracy: 0.7934 - loss: 0.4499 - val_accuracy: 0.8381 - val_loss: 0.4165\n",
      "Epoch 16/30\n",
      "32/32 - 0s - 973us/step - accuracy: 0.7913 - loss: 0.4529 - val_accuracy: 0.8476 - val_loss: 0.4140\n",
      "Epoch 17/30\n",
      "32/32 - 0s - 973us/step - accuracy: 0.8019 - loss: 0.4484 - val_accuracy: 0.8571 - val_loss: 0.4151\n",
      "Epoch 18/30\n",
      "32/32 - 0s - 872us/step - accuracy: 0.7966 - loss: 0.4476 - val_accuracy: 0.8476 - val_loss: 0.4143\n",
      "Epoch 19/30\n",
      "32/32 - 0s - 888us/step - accuracy: 0.8061 - loss: 0.4453 - val_accuracy: 0.8095 - val_loss: 0.4170\n",
      "Epoch 20/30\n",
      "32/32 - 0s - 873us/step - accuracy: 0.8019 - loss: 0.4453 - val_accuracy: 0.8381 - val_loss: 0.4143\n",
      "Epoch 21/30\n",
      "32/32 - 0s - 956us/step - accuracy: 0.8083 - loss: 0.4433 - val_accuracy: 0.8381 - val_loss: 0.4137\n",
      "Epoch 22/30\n",
      "32/32 - 0s - 889us/step - accuracy: 0.8019 - loss: 0.4424 - val_accuracy: 0.8381 - val_loss: 0.4153\n",
      "Epoch 23/30\n",
      "32/32 - 0s - 910us/step - accuracy: 0.7913 - loss: 0.4455 - val_accuracy: 0.8476 - val_loss: 0.4130\n",
      "Epoch 24/30\n",
      "32/32 - 0s - 904us/step - accuracy: 0.8008 - loss: 0.4417 - val_accuracy: 0.8190 - val_loss: 0.4174\n",
      "Epoch 25/30\n",
      "32/32 - 0s - 874us/step - accuracy: 0.8019 - loss: 0.4415 - val_accuracy: 0.8476 - val_loss: 0.4139\n",
      "Epoch 26/30\n",
      "32/32 - 0s - 924us/step - accuracy: 0.8083 - loss: 0.4409 - val_accuracy: 0.8190 - val_loss: 0.4170\n",
      "Epoch 27/30\n",
      "32/32 - 0s - 856us/step - accuracy: 0.7998 - loss: 0.4422 - val_accuracy: 0.8095 - val_loss: 0.4220\n",
      "Epoch 28/30\n",
      "32/32 - 0s - 950us/step - accuracy: 0.7998 - loss: 0.4415 - val_accuracy: 0.8190 - val_loss: 0.4154\n",
      "Epoch 29/30\n",
      "32/32 - 0s - 862us/step - accuracy: 0.8051 - loss: 0.4395 - val_accuracy: 0.8381 - val_loss: 0.4135\n",
      "Epoch 30/30\n",
      "32/32 - 0s - 874us/step - accuracy: 0.8019 - loss: 0.4407 - val_accuracy: 0.8381 - val_loss: 0.4152\n"
     ]
    }
   ],
   "source": [
    "train_history = model.fit(x=train_Features,\n",
    "                          y=train_Label,\n",
    "                          validation_split=0.1,\n",
    "                          epochs=30,\n",
    "                          batch_size=30,\n",
    "                          verbose=2)"
   ],
   "metadata": {
    "collapsed": false,
    "ExecuteTime": {
     "end_time": "2024-09-13T14:44:03.184080Z",
     "start_time": "2024-09-13T14:44:01.560758Z"
    }
   },
   "id": "dc0df83590c06288"
  },
  {
   "cell_type": "code",
   "execution_count": 113,
   "outputs": [],
   "source": [
    "import matplotlib.pyplot as plt\n",
    "\n",
    "\n",
    "def show_train_history(train_history, train, validation):\n",
    "    plt.plot(train_history.history[train])\n",
    "    plt.plot(train_history.history[validation])\n",
    "    plt.title(\"Train History\")\n",
    "    plt.ylabel(train)\n",
    "    plt.xlabel(\"Epoch\")\n",
    "    plt.legend([\"train\", \"validation\"], loc=\"upper left\")\n",
    "    plt.show()"
   ],
   "metadata": {
    "collapsed": false,
    "ExecuteTime": {
     "end_time": "2024-09-13T14:44:40.877758Z",
     "start_time": "2024-09-13T14:44:40.073874Z"
    }
   },
   "id": "93b9fe1cde8617f4"
  },
  {
   "cell_type": "code",
   "execution_count": 114,
   "outputs": [
    {
     "data": {
      "text/plain": "<Figure size 640x480 with 1 Axes>",
      "image/png": "[encoded data removed]"
     },
     "metadata": {},
     "output_type": "display_data"
    }
   ],
   "source": [
    "show_train_history(train_history, \"accuracy\", \"val_accuracy\")"
   ],
   "metadata": {
    "collapsed": false,
    "ExecuteTime": {
     "end_time": "2024-09-13T14:44:47.338622Z",
     "start_time": "2024-09-13T14:44:47.167710Z"
    }
   },
   "id": "6e9584be3de07ca5"
  },
  {
   "cell_type": "code",
   "execution_count": 115,
   "outputs": [
    {
     "data": {
      "text/plain": "<Figure size 640x480 with 1 Axes>",
      "image/png": "[encoded data removed]"
     },
     "metadata": {},
     "output_type": "display_data"
    }
   ],
   "source": [
    "show_train_history(train_history, \"loss\", \"val_loss\")"
   ],
   "metadata": {
    "collapsed": false,
    "ExecuteTime": {
     "end_time": "2024-09-13T14:44:56.959789Z",
     "start_time": "2024-09-13T14:44:56.881980Z"
    }
   },
   "id": "8d820b09cefd0d77"
  },
  {
   "cell_type": "code",
   "execution_count": 116,
   "outputs": [
    {
     "name": "stdout",
     "output_type": "stream",
     "text": [
      "\u001B[1m9/9\u001B[0m \u001B[32m━━━━━━━━━━━━━━━━━━━━\u001B[0m\u001B[37m\u001B[0m \u001B[1m0s\u001B[0m 608us/step - accuracy: 0.8071 - loss: 0.4658\n"
     ]
    }
   ],
   "source": [
    "scores = model.evaluate(x=test_Features,\n",
    "                        y=test_Label)"
   ],
   "metadata": {
    "collapsed": false,
    "ExecuteTime": {
     "end_time": "2024-09-13T14:45:15.377854Z",
     "start_time": "2024-09-13T14:45:15.336561Z"
    }
   },
   "id": "b8f949a0b476a0b4"
  },
  {
   "cell_type": "code",
   "execution_count": 117,
   "outputs": [
    {
     "data": {
      "text/plain": "0.7846153974533081"
     },
     "execution_count": 117,
     "metadata": {},
     "output_type": "execute_result"
    }
   ],
   "source": [
    "scores[1]"
   ],
   "metadata": {
    "collapsed": false,
    "ExecuteTime": {
     "end_time": "2024-09-13T14:45:25.626372Z",
     "start_time": "2024-09-13T14:45:25.593636Z"
    }
   },
   "id": "6a0591b61f19a268"
  },
  {
   "cell_type": "markdown",
   "source": [
    "## 加入Jack和Rose的数据"
   ],
   "metadata": {
    "collapsed": false
   },
   "id": "b33537bfb73a981b"
  },
  {
   "cell_type": "code",
   "execution_count": 118,
   "outputs": [],
   "source": [
    "Jack = pd.Series([0, \"Jack\", 3, \"male\", 23, 1, 0, 5.0000, 'S'])\n",
    "Rose = pd.Series([1, \"Rose\", 1, \"female\", 20, 1, 0, 100.0000, 'S'])"
   ],
   "metadata": {
    "collapsed": false,
    "ExecuteTime": {
     "end_time": "2024-09-13T14:46:45.616686Z",
     "start_time": "2024-09-13T14:46:45.595641Z"
    }
   },
   "id": "9125ea1daf8e1b71"
  },
  {
   "cell_type": "code",
   "execution_count": 119,
   "outputs": [],
   "source": [
    "JR_df = pd.DataFrame([list(Jack), list(Rose)],\n",
    "                     columns=[\"survived\", \"name\", \"pclass\", \"sex\", \"age\", \"sibsp\", \"parch\", \"fare\", \"embarked\"])"
   ],
   "metadata": {
    "collapsed": false,
    "ExecuteTime": {
     "end_time": "2024-09-13T14:47:57.550267Z",
     "start_time": "2024-09-13T14:47:57.495595Z"
    }
   },
   "id": "11de11fdff61c6d2"
  },
  {
   "cell_type": "code",
   "execution_count": 120,
   "outputs": [],
   "source": [
    "all_df = pd.concat([all_df, JR_df])"
   ],
   "metadata": {
    "collapsed": false,
    "ExecuteTime": {
     "end_time": "2024-09-13T14:48:08.988430Z",
     "start_time": "2024-09-13T14:48:08.968518Z"
    }
   },
   "id": "a47bdf8aa8457234"
  },
  {
   "cell_type": "code",
   "execution_count": 121,
   "outputs": [
    {
     "data": {
      "text/plain": "   survived  name  pclass     sex   age  sibsp  parch   fare embarked\n0         0  Jack       3    male  23.0      1      0    5.0        S\n1         1  Rose       1  female  20.0      1      0  100.0        S",
      "text/html": "<div>\n<style scoped>\n    .dataframe tbody tr th:only-of-type {\n        vertical-align: middle;\n    }\n\n    .dataframe tbody tr th {\n        vertical-align: top;\n    }\n\n    .dataframe thead th {\n        text-align: right;\n    }\n</style>\n<table border=\"1\" class=\"dataframe\">\n  <thead>\n    <tr style=\"text-align: right;\">\n      <th></th>\n      <th>survived</th>\n      <th>name</th>\n      <th>pclass</th>\n      <th>sex</th>\n      <th>age</th>\n      <th>sibsp</th>\n      <th>parch</th>\n      <th>fare</th>\n      <th>embarked</th>\n    </tr>\n  </thead>\n  <tbody>\n    <tr>\n      <th>0</th>\n      <td>0</td>\n      <td>Jack</td>\n      <td>3</td>\n      <td>male</td>\n      <td>23.0</td>\n      <td>1</td>\n      <td>0</td>\n      <td>5.0</td>\n      <td>S</td>\n    </tr>\n    <tr>\n      <th>1</th>\n      <td>1</td>\n      <td>Rose</td>\n      <td>1</td>\n      <td>female</td>\n      <td>20.0</td>\n      <td>1</td>\n      <td>0</td>\n      <td>100.0</td>\n      <td>S</td>\n    </tr>\n  </tbody>\n</table>\n</div>"
     },
     "execution_count": 121,
     "metadata": {},
     "output_type": "execute_result"
    }
   ],
   "source": [
    "all_df[-2:]"
   ],
   "metadata": {
    "collapsed": false,
    "ExecuteTime": {
     "end_time": "2024-09-13T14:48:16.309657Z",
     "start_time": "2024-09-13T14:48:16.278140Z"
    }
   },
   "id": "acd0903dfd9a2050"
  },
  {
   "cell_type": "code",
   "execution_count": 122,
   "outputs": [],
   "source": [
    "all_Features, Label = PreprocessData(all_df)"
   ],
   "metadata": {
    "collapsed": false,
    "ExecuteTime": {
     "end_time": "2024-09-13T14:48:37.673819Z",
     "start_time": "2024-09-13T14:48:37.637031Z"
    }
   },
   "id": "537c78b090cd276d"
  },
  {
   "cell_type": "code",
   "execution_count": 123,
   "outputs": [
    {
     "name": "stdout",
     "output_type": "stream",
     "text": [
      "\u001B[1m41/41\u001B[0m \u001B[32m━━━━━━━━━━━━━━━━━━━━\u001B[0m\u001B[37m\u001B[0m \u001B[1m0s\u001B[0m 587us/step\n"
     ]
    }
   ],
   "source": [
    "all_probability = model.predict(all_Features)"
   ],
   "metadata": {
    "collapsed": false,
    "ExecuteTime": {
     "end_time": "2024-09-13T14:48:54.407902Z",
     "start_time": "2024-09-13T14:48:54.314994Z"
    }
   },
   "id": "433dff1aaf89d8fd"
  },
  {
   "cell_type": "code",
   "execution_count": 124,
   "outputs": [
    {
     "data": {
      "text/plain": "array([[0.9737022 ],\n       [0.5050906 ],\n       [0.97008103],\n       [0.31839016],\n       [0.96813816],\n       [0.24748176],\n       [0.9465029 ],\n       [0.28785327],\n       [0.9517712 ],\n       [0.257601  ]], dtype=float32)"
     },
     "execution_count": 124,
     "metadata": {},
     "output_type": "execute_result"
    }
   ],
   "source": [
    "all_probability[:10]"
   ],
   "metadata": {
    "collapsed": false,
    "ExecuteTime": {
     "end_time": "2024-09-13T14:49:02.063378Z",
     "start_time": "2024-09-13T14:49:02.022970Z"
    }
   },
   "id": "d537414085fd3ca"
  },
  {
   "cell_type": "code",
   "execution_count": 125,
   "outputs": [],
   "source": [
    "pd = all_df\n",
    "pd.insert(len(all_df.columns),\n",
    "          \"probability\", all_probability)"
   ],
   "metadata": {
    "collapsed": false,
    "ExecuteTime": {
     "end_time": "2024-09-13T14:49:32.173300Z",
     "start_time": "2024-09-13T14:49:32.116443Z"
    }
   },
   "id": "8b203d252e119723"
  },
  {
   "cell_type": "code",
   "execution_count": 126,
   "outputs": [
    {
     "data": {
      "text/plain": "   survived  name  pclass     sex   age  sibsp  parch   fare embarked  \\\n0         0  Jack       3    male  23.0      1      0    5.0        S   \n1         1  Rose       1  female  20.0      1      0  100.0        S   \n\n   probability  \n0     0.126697  \n1     0.971795  ",
      "text/html": "<div>\n<style scoped>\n    .dataframe tbody tr th:only-of-type {\n        vertical-align: middle;\n    }\n\n    .dataframe tbody tr th {\n        vertical-align: top;\n    }\n\n    .dataframe thead th {\n        text-align: right;\n    }\n</style>\n<table border=\"1\" class=\"dataframe\">\n  <thead>\n    <tr style=\"text-align: right;\">\n      <th></th>\n      <th>survived</th>\n      <th>name</th>\n      <th>pclass</th>\n      <th>sex</th>\n      <th>age</th>\n      <th>sibsp</th>\n      <th>parch</th>\n      <th>fare</th>\n      <th>embarked</th>\n      <th>probability</th>\n    </tr>\n  </thead>\n  <tbody>\n    <tr>\n      <th>0</th>\n      <td>0</td>\n      <td>Jack</td>\n      <td>3</td>\n      <td>male</td>\n      <td>23.0</td>\n      <td>1</td>\n      <td>0</td>\n      <td>5.0</td>\n      <td>S</td>\n      <td>0.126697</td>\n    </tr>\n    <tr>\n      <th>1</th>\n      <td>1</td>\n      <td>Rose</td>\n      <td>1</td>\n      <td>female</td>\n      <td>20.0</td>\n      <td>1</td>\n      <td>0</td>\n      <td>100.0</td>\n      <td>S</td>\n      <td>0.971795</td>\n    </tr>\n  </tbody>\n</table>\n</div>"
     },
     "execution_count": 126,
     "metadata": {},
     "output_type": "execute_result"
    }
   ],
   "source": [
    "pd[-2:]"
   ],
   "metadata": {
    "collapsed": false,
    "ExecuteTime": {
     "end_time": "2024-09-13T14:49:39.245788Z",
     "start_time": "2024-09-13T14:49:39.153317Z"
    }
   },
   "id": "8cbbd7564f43b87"
  },
  {
   "cell_type": "code",
   "execution_count": 127,
   "outputs": [
    {
     "data": {
      "text/plain": "     survived                                             name  pclass  \\\n2           0                     Allison, Miss. Helen Loraine       1   \n4           0  Allison, Mrs. Hudson J C (Bessie Waldo Daniels)       1   \n105         0                         Evans, Miss. Edith Corse       1   \n169         0                       Isham, Miss. Ann Elizabeth       1   \n286         0           Straus, Mrs. Isidor (Rosalie Ida Blun)       1   \n\n        sex   age  sibsp  parch      fare embarked  probability  \n2    female   2.0      1      2  151.5500        S     0.970081  \n4    female  25.0      1      2  151.5500        S     0.968138  \n105  female  36.0      0      0   31.6792        C     0.982675  \n169  female  50.0      0      0   28.7125        C     0.979635  \n286  female  63.0      1      0  221.7792        S     0.951782  ",
      "text/html": "<div>\n<style scoped>\n    .dataframe tbody tr th:only-of-type {\n        vertical-align: middle;\n    }\n\n    .dataframe tbody tr th {\n        vertical-align: top;\n    }\n\n    .dataframe thead th {\n        text-align: right;\n    }\n</style>\n<table border=\"1\" class=\"dataframe\">\n  <thead>\n    <tr style=\"text-align: right;\">\n      <th></th>\n      <th>survived</th>\n      <th>name</th>\n      <th>pclass</th>\n      <th>sex</th>\n      <th>age</th>\n      <th>sibsp</th>\n      <th>parch</th>\n      <th>fare</th>\n      <th>embarked</th>\n      <th>probability</th>\n    </tr>\n  </thead>\n  <tbody>\n    <tr>\n      <th>2</th>\n      <td>0</td>\n      <td>Allison, Miss. Helen Loraine</td>\n      <td>1</td>\n      <td>female</td>\n      <td>2.0</td>\n      <td>1</td>\n      <td>2</td>\n      <td>151.5500</td>\n      <td>S</td>\n      <td>0.970081</td>\n    </tr>\n    <tr>\n      <th>4</th>\n      <td>0</td>\n      <td>Allison, Mrs. Hudson J C (Bessie Waldo Daniels)</td>\n      <td>1</td>\n      <td>female</td>\n      <td>25.0</td>\n      <td>1</td>\n      <td>2</td>\n      <td>151.5500</td>\n      <td>S</td>\n      <td>0.968138</td>\n    </tr>\n    <tr>\n      <th>105</th>\n      <td>0</td>\n      <td>Evans, Miss. Edith Corse</td>\n      <td>1</td>\n      <td>female</td>\n      <td>36.0</td>\n      <td>0</td>\n      <td>0</td>\n      <td>31.6792</td>\n      <td>C</td>\n      <td>0.982675</td>\n    </tr>\n    <tr>\n      <th>169</th>\n      <td>0</td>\n      <td>Isham, Miss. Ann Elizabeth</td>\n      <td>1</td>\n      <td>female</td>\n      <td>50.0</td>\n      <td>0</td>\n      <td>0</td>\n      <td>28.7125</td>\n      <td>C</td>\n      <td>0.979635</td>\n    </tr>\n    <tr>\n      <th>286</th>\n      <td>0</td>\n      <td>Straus, Mrs. Isidor (Rosalie Ida Blun)</td>\n      <td>1</td>\n      <td>female</td>\n      <td>63.0</td>\n      <td>1</td>\n      <td>0</td>\n      <td>221.7792</td>\n      <td>S</td>\n      <td>0.951782</td>\n    </tr>\n  </tbody>\n</table>\n</div>"
     },
     "execution_count": 127,
     "metadata": {},
     "output_type": "execute_result"
    }
   ],
   "source": [
    "pd[(pd[\"survived\"] == 0) & (pd[\"probability\"] > 0.9)]"
   ],
   "metadata": {
    "collapsed": false,
    "ExecuteTime": {
     "end_time": "2024-09-13T14:50:17.133493Z",
     "start_time": "2024-09-13T14:50:17.089418Z"
    }
   },
   "id": "15511d368b7d8ef5"
  },
  {
   "cell_type": "code",
   "execution_count": 128,
   "outputs": [
    {
     "data": {
      "text/plain": "   survived                                             name  pclass     sex  \\\n0         1                    Allen, Miss. Elisabeth Walton       1  female   \n1         1                   Allison, Master. Hudson Trevor       1    male   \n2         0                     Allison, Miss. Helen Loraine       1  female   \n3         0             Allison, Mr. Hudson Joshua Creighton       1    male   \n4         0  Allison, Mrs. Hudson J C (Bessie Waldo Daniels)       1  female   \n\n       age  sibsp  parch      fare embarked  probability  \n0  29.0000      0      0  211.3375        S     0.973702  \n1   0.9167      1      2  151.5500        S     0.505091  \n2   2.0000      1      2  151.5500        S     0.970081  \n3  30.0000      1      2  151.5500        S     0.318390  \n4  25.0000      1      2  151.5500        S     0.968138  ",
      "text/html": "<div>\n<style scoped>\n    .dataframe tbody tr th:only-of-type {\n        vertical-align: middle;\n    }\n\n    .dataframe tbody tr th {\n        vertical-align: top;\n    }\n\n    .dataframe thead th {\n        text-align: right;\n    }\n</style>\n<table border=\"1\" class=\"dataframe\">\n  <thead>\n    <tr style=\"text-align: right;\">\n      <th></th>\n      <th>survived</th>\n      <th>name</th>\n      <th>pclass</th>\n      <th>sex</th>\n      <th>age</th>\n      <th>sibsp</th>\n      <th>parch</th>\n      <th>fare</th>\n      <th>embarked</th>\n      <th>probability</th>\n    </tr>\n  </thead>\n  <tbody>\n    <tr>\n      <th>0</th>\n      <td>1</td>\n      <td>Allen, Miss. Elisabeth Walton</td>\n      <td>1</td>\n      <td>female</td>\n      <td>29.0000</td>\n      <td>0</td>\n      <td>0</td>\n      <td>211.3375</td>\n      <td>S</td>\n      <td>0.973702</td>\n    </tr>\n    <tr>\n      <th>1</th>\n      <td>1</td>\n      <td>Allison, Master. Hudson Trevor</td>\n      <td>1</td>\n      <td>male</td>\n      <td>0.9167</td>\n      <td>1</td>\n      <td>2</td>\n      <td>151.5500</td>\n      <td>S</td>\n      <td>0.505091</td>\n    </tr>\n    <tr>\n      <th>2</th>\n      <td>0</td>\n      <td>Allison, Miss. Helen Loraine</td>\n      <td>1</td>\n      <td>female</td>\n      <td>2.0000</td>\n      <td>1</td>\n      <td>2</td>\n      <td>151.5500</td>\n      <td>S</td>\n      <td>0.970081</td>\n    </tr>\n    <tr>\n      <th>3</th>\n      <td>0</td>\n      <td>Allison, Mr. Hudson Joshua Creighton</td>\n      <td>1</td>\n      <td>male</td>\n      <td>30.0000</td>\n      <td>1</td>\n      <td>2</td>\n      <td>151.5500</td>\n      <td>S</td>\n      <td>0.318390</td>\n    </tr>\n    <tr>\n      <th>4</th>\n      <td>0</td>\n      <td>Allison, Mrs. Hudson J C (Bessie Waldo Daniels)</td>\n      <td>1</td>\n      <td>female</td>\n      <td>25.0000</td>\n      <td>1</td>\n      <td>2</td>\n      <td>151.5500</td>\n      <td>S</td>\n      <td>0.968138</td>\n    </tr>\n  </tbody>\n</table>\n</div>"
     },
     "execution_count": 128,
     "metadata": {},
     "output_type": "execute_result"
    }
   ],
   "source": [
    "pd[:5]"
   ],
   "metadata": {
    "collapsed": false,
    "ExecuteTime": {
     "end_time": "2024-09-13T14:50:24.473938Z",
     "start_time": "2024-09-13T14:50:24.426820Z"
    }
   },
   "id": "fae90639e9f3dd8c"
  },
  {
   "cell_type": "markdown",
   "source": [
    "![img](./assets/movement_story_in_Titanic_01.jpeg)"
   ],
   "metadata": {
    "collapsed": false
   },
   "id": "4b14232ff781134f"
  },
  {
   "cell_type": "markdown",
   "source": [
    "![img](./assets/movement_story_in_Titanic_02.jpeg)"
   ],
   "metadata": {
    "collapsed": false
   },
   "id": "c46993d51282df9e"
  },
  {
   "cell_type": "markdown",
   "source": [
    "![img](./assets/movement_story_in_Titanic_03.jpeg)"
   ],
   "metadata": {
    "collapsed": false
   },
   "id": "caab631097f650fc"
  },
  {
   "cell_type": "code",
   "execution_count": 128,
   "outputs": [],
   "source": [],
   "metadata": {
    "collapsed": false,
    "ExecuteTime": {
     "end_time": "2024-09-13T14:54:13.612391Z",
     "start_time": "2024-09-13T14:54:13.576953Z"
    }
   },
   "id": "1afd69a9652469d7"
  },
  {
   "cell_type": "code",
   "execution_count": null,
   "outputs": [],
   "source": [],
   "metadata": {
    "collapsed": false
   },
   "id": "b275ddeb81ee5066"
  }
 ],
 "metadata": {
  "kernelspec": {
   "display_name": "Python 3",
   "language": "python",
   "name": "python3"
  },
  "language_info": {
   "codemirror_mode": {
    "name": "ipython",
    "version": 2
   },
   "file_extension": ".py",
   "mimetype": "text/x-python",
   "name": "python",
   "nbconvert_exporter": "python",
   "pygments_lexer": "ipython2",
   "version": "2.7.6"
  }
 },
 "nbformat": 4,
 "nbformat_minor": 5
}
